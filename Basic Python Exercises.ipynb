{
 "cells": [
  {
   "cell_type": "code",
   "execution_count": 1,
   "id": "769ccea3",
   "metadata": {},
   "outputs": [
    {
     "name": "stdout",
     "output_type": "stream",
     "text": [
      "enter the marks54\n",
      "Average\n"
     ]
    }
   ],
   "source": [
    "marks= int(input(\"enter the marks\"))\n",
    "if (marks <30):\n",
    "    print(\"Fail\")\n",
    "elif (marks>30) & (marks<70):\n",
    "    print(\"Average\")\n",
    "else:\n",
    "    print(\"Perfect\")"
   ]
  },
  {
   "cell_type": "code",
   "execution_count": 2,
   "id": "6b7a188b",
   "metadata": {},
   "outputs": [
    {
     "name": "stdout",
     "output_type": "stream",
     "text": [
      "Orange\n",
      "Orange\n",
      "Orange\n"
     ]
    }
   ],
   "source": [
    "x=y=z=\"Orange\"\n",
    "print(x)\n",
    "print(y)\n",
    "print(z)"
   ]
  },
  {
   "cell_type": "code",
   "execution_count": 4,
   "id": "c07ec020",
   "metadata": {},
   "outputs": [
    {
     "name": "stdout",
     "output_type": "stream",
     "text": [
      "HelloWorld\n"
     ]
    }
   ],
   "source": [
    "a = \"Hello\"\n",
    "b = \"World\"\n",
    "c = a + b\n",
    "print(c)"
   ]
  },
  {
   "cell_type": "code",
   "execution_count": 5,
   "id": "a05b236b",
   "metadata": {},
   "outputs": [
    {
     "name": "stdout",
     "output_type": "stream",
     "text": [
      "e\n"
     ]
    }
   ],
   "source": [
    "b = \"Hello, World!\"\n",
    "print(b[1:2])\n"
   ]
  },
  {
   "cell_type": "code",
   "execution_count": 6,
   "id": "6f0fae5a",
   "metadata": {},
   "outputs": [
    {
     "name": "stdout",
     "output_type": "stream",
     "text": [
      "0 m\n",
      "1 a\n",
      "2 c\n",
      "3 h\n",
      "4 i\n",
      "5 n\n",
      "6 e\n",
      "7 l\n",
      "8 e\n",
      "9 a\n",
      "10 r\n",
      "11 n\n",
      "12 i\n",
      "13 n\n",
      "14 g\n"
     ]
    }
   ],
   "source": [
    "#write a program to print the index of all the vowels in a string\n",
    "vowels=\"aeiou\"\n",
    "sample_string= \"Machinelearning\"\n",
    "sample_string=sample_string.lower()\n",
    "for i,j in enumerate(sample_string):\n",
    "    print(i,j)\n",
    "\n"
   ]
  },
  {
   "cell_type": "code",
   "execution_count": 7,
   "id": "e798e2cc",
   "metadata": {},
   "outputs": [
    {
     "name": "stdout",
     "output_type": "stream",
     "text": [
      "{'a': 9, 'i': 12, 'e': 8}\n"
     ]
    }
   ],
   "source": [
    "#write a program to print the index of all the vowels in a string removing duplicates\n",
    "vowels=\"aeiou\"\n",
    "sample_string= \"Machinelearning\"\n",
    "sample_string=sample_string.lower()\n",
    "\n",
    "output_result={}\n",
    "\n",
    "for i,j in enumerate(sample_string):\n",
    "    if j in vowels:\n",
    "        output_result[j]=i\n",
    "print(output_result)"
   ]
  },
  {
   "cell_type": "code",
   "execution_count": 8,
   "id": "77166d16",
   "metadata": {},
   "outputs": [
    {
     "name": "stdout",
     "output_type": "stream",
     "text": [
      "enter a number556\n",
      "Not Armstrong\n"
     ]
    }
   ],
   "source": [
    "#to check if a number is armstrong or not\n",
    "num=input(\"enter a number\")\n",
    "power=len(str(num))\n",
    "result=0\n",
    "for i in str(num):\n",
    "    result=result+int(i)**int(power)\n",
    "if int(result)==int(num):\n",
    "    print(\"Armstrong\")\n",
    "else:\n",
    "    print(\"Not Armstrong\")\n",
    "    "
   ]
  },
  {
   "cell_type": "code",
   "execution_count": 10,
   "id": "608eaa5d",
   "metadata": {},
   "outputs": [],
   "source": [
    "#to check if numbers are amstrong or not from the list\n",
    "sample_list=[153,678,123,688,2345]\n",
    "def check_armstrong(num=None):\n",
    "    if num==None:\n",
    "        return \"No Input\"\n",
    "    else:\n",
    "        power=len(str(num))\n",
    "    result=0\n",
    "    for i in str(num):\n",
    "        result=result+int(i)**int(power)\n",
    "    if int(result)==int(num):\n",
    "        return \"Armstrong\"\n",
    "    else:\n",
    "        return \"Not Armstrong\""
   ]
  },
  {
   "cell_type": "code",
   "execution_count": 11,
   "id": "5af12e53",
   "metadata": {},
   "outputs": [
    {
     "name": "stdout",
     "output_type": "stream",
     "text": [
      "Tarun is Pass in English\n",
      "Fail\n",
      "Tarun is Pass in Science\n",
      "Tarun is Pass in Hindi\n",
      "Fail\n",
      "Passing Subjects Count 3\n"
     ]
    }
   ],
   "source": [
    "#check tarun is pass in how many subjects\n",
    "Tarun = {\n",
    "    \"English\" : 33,\n",
    "    \"Maths\" : 18,\n",
    "    \"Science\" : 60,\n",
    "    \"Hindi\":45,\n",
    "    \"History\": 15,\n",
    "}\n",
    "Pass= 0\n",
    "for i,j in Tarun.items():\n",
    "    if j>=33:\n",
    "        Pass=Pass+1\n",
    "        print(\"Tarun is Pass in\",i)\n",
    "    else:\n",
    "        print(\"Fail\")\n",
    "print(\"Passing Subjects Count\",Pass)\n",
    "    "
   ]
  },
  {
   "cell_type": "code",
   "execution_count": 12,
   "id": "3034eae6",
   "metadata": {},
   "outputs": [
    {
     "name": "stdout",
     "output_type": "stream",
     "text": [
      "enter a number8\n",
      "Not Prime\n"
     ]
    }
   ],
   "source": [
    "#check if a number is prime or not\n",
    "N=int(input(\"enter a number\"))\n",
    "for i in range(2,N):\n",
    "    if N%i==0:\n",
    "        print(\"Not Prime\")\n",
    "        break\n",
    "else:\n",
    "        print(\"Prime\")\n",
    "    "
   ]
  },
  {
   "cell_type": "code",
   "execution_count": 13,
   "id": "c0c0c840",
   "metadata": {},
   "outputs": [
    {
     "name": "stdout",
     "output_type": "stream",
     "text": [
      "5 8\n",
      "8 5\n",
      "8 5\n",
      "5 8\n"
     ]
    }
   ],
   "source": [
    "#to take out numbers whose sum is 13\n",
    "sample_array=[3,5,6,2,8,5]\n",
    "target=13\n",
    "for i in sample_array:\n",
    "    for j in sample_array:\n",
    "        if (i+j==target) & (i!=j):\n",
    "            print(i,j)\n",
    "        "
   ]
  },
  {
   "cell_type": "code",
   "execution_count": 14,
   "id": "e33c1f01",
   "metadata": {},
   "outputs": [
    {
     "name": "stdout",
     "output_type": "stream",
     "text": [
      "[5, 8]\n"
     ]
    }
   ],
   "source": [
    "#to find the numbers whose sum is 13 using one loop\n",
    "sample_array=[3,5,6,2,8,5]\n",
    "targetsum=13\n",
    "sample_array.sort()\n",
    "left=0\n",
    "right=len(sample_array)-1\n",
    "while left<right:\n",
    "    currentsum=sample_array[left]+sample_array[right]\n",
    "    if currentsum==targetsum:\n",
    "        print([sample_array[left],sample_array[right]])\n",
    "        break\n",
    "    elif currentsum<targetsum:\n",
    "        left=left+1\n",
    "    elif currentsum>targetsum:\n",
    "        right=right-1\n",
    "    "
   ]
  },
  {
   "cell_type": "code",
   "execution_count": 15,
   "id": "4314b59a",
   "metadata": {},
   "outputs": [
    {
     "name": "stdout",
     "output_type": "stream",
     "text": [
      "3 Fizz\n",
      "5 Buzz\n",
      "6 Fizz\n",
      "9 Fizz\n",
      "10 Buzz\n",
      "12 Fizz\n",
      "15 Fizzbuzz\n",
      "18 Fizz\n",
      "20 Buzz\n",
      "21 Fizz\n",
      "24 Fizz\n",
      "25 Buzz\n",
      "27 Fizz\n",
      "30 Fizzbuzz\n",
      "33 Fizz\n",
      "35 Buzz\n",
      "36 Fizz\n",
      "39 Fizz\n",
      "40 Buzz\n",
      "42 Fizz\n",
      "45 Fizzbuzz\n",
      "48 Fizz\n",
      "50 Buzz\n"
     ]
    }
   ],
   "source": [
    "#fizbuzz series from 1 to 50 \n",
    "# Players take turns to count incrementally, \n",
    "#replacing any number divisible by three with the word \"fizz\", \n",
    "#and any number divisible by five with the word \"buzz\", \n",
    "#and any number divisible by both three and five with the word \"fizzbuzz\".\n",
    "for i in range(1,51):\n",
    "    if (i%3==0) & (i%5==0):\n",
    "        print(i,\"Fizzbuzz\")\n",
    "    elif (i%5==0):\n",
    "        print(i,\"Buzz\")\n",
    "    elif (i%3==0):\n",
    "        print(i,\"Fizz\")\n"
   ]
  },
  {
   "cell_type": "code",
   "execution_count": 16,
   "id": "9c081a30",
   "metadata": {},
   "outputs": [
    {
     "name": "stdout",
     "output_type": "stream",
     "text": [
      "[0, 2, 4, 6, 8, 10, 12, 14, 16, 18, 20, 22, 24, 26, 28, 30, 32, 34, 36, 38, 40, 42, 44, 46, 48, 50]\n"
     ]
    }
   ],
   "source": [
    "#list comprehension\n",
    "#all the even numbers from 1 to 50 in a list\n",
    "empty_list=[]\n",
    "for i in range(0,51,2):\n",
    "    empty_list.append(i)\n",
    "print(empty_list)"
   ]
  },
  {
   "cell_type": "code",
   "execution_count": 17,
   "id": "bf0e15d4",
   "metadata": {},
   "outputs": [
    {
     "name": "stdout",
     "output_type": "stream",
     "text": [
      "2000,2002,2004,2006,2008,2020,2022,2024,2026,2028,2040,2042,2044,2046,2048,2060,2062,2064,2066,2068,2080,2082,2084,2086,2088,2200,2202,2204,2206,2208,2220,2222,2224,2226,2228,2240,2242,2244,2246,2248,2260,2262,2264,2266,2268,2280,2282,2284,2286,2288,2400,2402,2404,2406,2408,2420,2422,2424,2426,2428,2440,2442,2444,2446,2448,2460,2462,2464,2466,2468,2480,2482,2484,2486,2488,2600,2602,2604,2606,2608,2620,2622,2624,2626,2628,2640,2642,2644,2646,2648,2660,2662,2664,2666,2668,2680,2682,2684,2686,2688,2800,2802,2804,2806,2808,2820,2822,2824,2826,2828,2840,2842,2844,2846,2848,2860,2862,2864,2866,2868,2880,2882,2884,2886,2888,4000,4002,4004,4006,4008,4020,4022,4024,4026,4028,4040,4042,4044,4046,4048,4060,4062,4064,4066,4068,4080,4082,4084,4086,4088,4200,4202,4204,4206,4208,4220,4222,4224,4226,4228,4240,4242,4244,4246,4248,4260,4262,4264,4266,4268,4280,4282,4284,4286,4288,4400,4402,4404,4406,4408,4420,4422,4424,4426,4428,4440,4442,4444,4446,4448,4460,4462,4464,4466,4468,4480,4482,4484,4486,4488,4600,4602,4604,4606,4608,4620,4622,4624,4626,4628,4640,4642,4644,4646,4648,4660,4662,4664,4666,4668,4680,4682,4684,4686,4688,4800,4802,4804,4806,4808,4820,4822,4824,4826,4828,4840,4842,4844,4846,4848,4860,4862,4864,4866,4868,4880,4882,4884,4886,4888,6000,6002,6004,6006,6008,6020,6022,6024,6026,6028,6040,6042,6044,6046,6048,6060,6062,6064,6066,6068,6080,6082,6084,6086,6088,6200,6202,6204,6206,6208,6220,6222,6224,6226,6228,6240,6242,6244,6246,6248,6260,6262,6264,6266,6268,6280,6282,6284,6286,6288,6400,6402,6404,6406,6408,6420,6422,6424,6426,6428,6440,6442,6444,6446,6448,6460,6462,6464,6466,6468,6480,6482,6484,6486,6488,6600,6602,6604,6606,6608,6620,6622,6624,6626,6628,6640,6642,6644,6646,6648,6660,6662,6664,6666,6668,6680,6682,6684,6686,6688,6800,6802,6804,6806,6808,6820,6822,6824,6826,6828,6840,6842,6844,6846,6848,6860,6862,6864,6866,6868,6880,6882,6884,6886,6888,8000,8002,8004,8006,8008,8020,8022,8024,8026,8028,8040,8042,8044,8046,8048,8060,8062,8064,8066,8068,8080,8082,8084,8086,8088,8200,8202,8204,8206,8208,8220,8222,8224,8226,8228,8240,8242,8244,8246,8248,8260,8262,8264,8266,8268,8280,8282,8284,8286,8288,8400,8402,8404,8406,8408,8420,8422,8424,8426,8428,8440,8442,8444,8446,8448,8460,8462,8464,8466,8468,8480,8482,8484,8486,8488,8600,8602,8604,8606,8608,8620,8622,8624,8626,8628,8640,8642,8644,8646,8648,8660,8662,8664,8666,8668,8680,8682,8684,8686,8688,8800,8802,8804,8806,8808,8820,8822,8824,8826,8828,8840,8842,8844,8846,8848,8860,8862,8864,8866,8868,8880,8882,8884,8886,8888,"
     ]
    }
   ],
   "source": [
    "#print all the numbers from 1000 to 9999 where all the characters are even\n",
    "for i in range(1000,10000):\n",
    "    if(int(str(i)[0])%2==0) & (int(str(i)[1])%2==0) & (int(str(i)[2])%2==0) & (int(str(i)[3])%2==0):\n",
    "        print(i,end=\",\")"
   ]
  },
  {
   "cell_type": "code",
   "execution_count": 18,
   "id": "f976308b",
   "metadata": {},
   "outputs": [
    {
     "name": "stdout",
     "output_type": "stream",
     "text": [
      "3\n"
     ]
    }
   ],
   "source": [
    "print(7 & 3)"
   ]
  },
  {
   "cell_type": "code",
   "execution_count": 19,
   "id": "d27f74f1",
   "metadata": {},
   "outputs": [
    {
     "name": "stdout",
     "output_type": "stream",
     "text": [
      "Armstrong\n",
      "Not Armstrong\n",
      "Not Armstrong\n",
      "Not Armstrong\n",
      "Not Armstrong\n"
     ]
    }
   ],
   "source": [
    "for i in sample_list:\n",
    "    result=check_armstrong(num=i)\n",
    "    print(result)"
   ]
  },
  {
   "cell_type": "code",
   "execution_count": 22,
   "id": "08cc09a8",
   "metadata": {},
   "outputs": [
    {
     "data": {
      "text/plain": [
       "'knahsaYsiemaNym'"
      ]
     },
     "execution_count": 22,
     "metadata": {},
     "output_type": "execute_result"
    }
   ],
   "source": [
    "#to reverse the order\n",
    "sample=\"myNameisYashank\"\n",
    "sample[0:8:2]\n",
    "sample[::-1]"
   ]
  },
  {
   "cell_type": "code",
   "execution_count": 23,
   "id": "6f4e06e0",
   "metadata": {},
   "outputs": [
    {
     "name": "stdout",
     "output_type": "stream",
     "text": [
      "enter a string to check for palindrome85\n",
      "False\n"
     ]
    }
   ],
   "source": [
    "input_value=input(\"enter a string to check for palindrome\")\n",
    "input_value=input_value.lower()\n",
    "if type(input_value)==str:\n",
    "    if input_value== input_value[::-1]:\n",
    "        print(True)\n",
    "    else:\n",
    "        print(False)\n",
    "else:\n",
    "    print(\"invalid input\")"
   ]
  },
  {
   "cell_type": "code",
   "execution_count": 24,
   "id": "73860b66",
   "metadata": {},
   "outputs": [
    {
     "data": {
      "text/plain": [
       "dict_values(['Yashank', '1994', 'Bijnor', '1234'])"
      ]
     },
     "execution_count": 24,
     "metadata": {},
     "output_type": "execute_result"
    }
   ],
   "source": [
    "#dictionary\n",
    "personal_info={\"name\":\"Yashank\",\"DOB\":\"1994\",\"Place\":\"Bijnor\",\"Num\":\"1234\"}\n",
    "personal_info[\"name\"]\n",
    "personal_info.keys()\n",
    "personal_info.values()"
   ]
  },
  {
   "cell_type": "code",
   "execution_count": 25,
   "id": "29e9334d",
   "metadata": {},
   "outputs": [
    {
     "name": "stdout",
     "output_type": "stream",
     "text": [
      "('Yashank', 'python', 'Yashank')\n",
      "enter a stringgh\n",
      "False\n"
     ]
    }
   ],
   "source": [
    "#tuple\n",
    "sample=(\"Yashank\",\"python\",\"Yashank\")\n",
    "type(sample)\n",
    "print(sample)\n",
    "#how to add data in tuple using list\n",
    "new = list(sample)\n",
    "new.append(\"data science\")\n",
    "tuple(new)\n",
    "#count\n",
    "new.count(\"Yashank\")\n",
    "#index\n",
    "new.index(\"python\")\n",
    "len(new[1])\n",
    "#sets\n",
    "sample=[\"Yashank\",\"Yashank\",\"python\"]\n",
    "list(set(sample))\n",
    "a={\"data\",\"science\",\"python\",\"machine learning\"}\n",
    "b={\"boston\",\"data\",\"artificial intelligence\",\"maths\"}\n",
    "a.intersection(b)\n",
    "a.difference(b)\n",
    "b.difference(a)\n",
    "a.symmetric_difference(b)\n",
    "#check if a given string is ending with a vowel or not\n",
    "name=input('enter a string')\n",
    "if name[-1] in (\"aeiou\"):\n",
    "    print(True)\n",
    "else:\n",
    "    print(False)"
   ]
  },
  {
   "cell_type": "code",
   "execution_count": 26,
   "id": "811e6c70",
   "metadata": {},
   "outputs": [
    {
     "name": "stdout",
     "output_type": "stream",
     "text": [
      "my\n",
      "name\n",
      "is\n",
      "Yashank\n"
     ]
    }
   ],
   "source": [
    "#for loops\n",
    "sample=[\"my\",\"name\",\"is\",\"Yashank\"]\n",
    "for i in sample:\n",
    "    print(i)"
   ]
  },
  {
   "cell_type": "code",
   "execution_count": 27,
   "id": "9aa0743e",
   "metadata": {},
   "outputs": [
    {
     "name": "stdout",
     "output_type": "stream",
     "text": [
      "not ending with vowel\n",
      "name\n",
      "not ending with vowel\n",
      "not ending with vowel\n"
     ]
    }
   ],
   "source": [
    "#for loops\n",
    "sample=[\"my\",\"name\",\"is\",\"Yashank\"]\n",
    "for i in sample:\n",
    "    if i[-1] in (\"aeiou\"):\n",
    "        print(i)\n",
    "    else:\n",
    "        print(\"not ending with vowel\")"
   ]
  },
  {
   "cell_type": "code",
   "execution_count": 28,
   "id": "ea585030",
   "metadata": {},
   "outputs": [
    {
     "name": "stdout",
     "output_type": "stream",
     "text": [
      "34\n"
     ]
    }
   ],
   "source": [
    "#find the sum of all the elements in the list using loop\n",
    "sample=[2,7,3,8,4,7,3]\n",
    "result=0\n",
    "for i in sample:\n",
    "    result=result+i\n",
    "print(result)"
   ]
  },
  {
   "cell_type": "code",
   "execution_count": 29,
   "id": "0a396ece",
   "metadata": {},
   "outputs": [
    {
     "name": "stdout",
     "output_type": "stream",
     "text": [
      "16256 16384\n"
     ]
    }
   ],
   "source": [
    "#find the sum of all even and odd numbers from 0 to 255\n",
    "even_sum=0\n",
    "odd_sum=0\n",
    "for i in range(0,256):\n",
    "    if i%2==0:\n",
    "        even_sum=even_sum+i\n",
    "    else:\n",
    "        odd_sum=odd_sum+i\n",
    "print(even_sum,odd_sum)"
   ]
  },
  {
   "cell_type": "code",
   "execution_count": 30,
   "id": "f60ecadf",
   "metadata": {},
   "outputs": [
    {
     "name": "stdout",
     "output_type": "stream",
     "text": [
      "enter the number4\n",
      "24\n"
     ]
    }
   ],
   "source": [
    "#find the factorial of a number\n",
    "num=int(input(\"enter the number\"))\n",
    "result=1\n",
    "for i in range(1,num+1):\n",
    "    result=result*i\n",
    "print(result)"
   ]
  },
  {
   "cell_type": "code",
   "execution_count": 31,
   "id": "80f4fa05",
   "metadata": {},
   "outputs": [
    {
     "name": "stdout",
     "output_type": "stream",
     "text": [
      "Yashank\n",
      "Yashank\n",
      "Yashank\n",
      "Yashank\n",
      "Yashank\n"
     ]
    }
   ],
   "source": [
    "#while loop\n",
    "name=\"Yashank\"\n",
    "n=0\n",
    "while n<5:\n",
    "    print(name)\n",
    "    n=n+1"
   ]
  },
  {
   "cell_type": "code",
   "execution_count": 32,
   "id": "34405446",
   "metadata": {},
   "outputs": [
    {
     "name": "stdout",
     "output_type": "stream",
     "text": [
      "enter a number4\n",
      "24\n"
     ]
    }
   ],
   "source": [
    "#factorial of a number using while\n",
    "fact=int(input(\"enter a number\"))\n",
    "result=1\n",
    "num=1\n",
    "while num<fact+1:\n",
    "    result=result*num\n",
    "    num=num+1\n",
    "print(result)"
   ]
  },
  {
   "cell_type": "code",
   "execution_count": 34,
   "id": "334770e0",
   "metadata": {},
   "outputs": [],
   "source": [
    "thisdict = {\n",
    "  \"brand\": \"Ford\",\n",
    "  \"model\": \"Mustang\",\n",
    "  \"year\": 1964\n",
    "}\n",
    "x = thisdict[\"model\"]"
   ]
  },
  {
   "cell_type": "code",
   "execution_count": 35,
   "id": "bf6508cc",
   "metadata": {},
   "outputs": [
    {
     "name": "stdout",
     "output_type": "stream",
     "text": [
      "['banana', 'gauva']\n"
     ]
    }
   ],
   "source": [
    "thislist = [\"apple\", \"banana\", \"cherry\",\"gauva\",\"mango\"]\n",
    "print(thislist[-4:-1:2])"
   ]
  },
  {
   "cell_type": "code",
   "execution_count": 36,
   "id": "b90616db",
   "metadata": {},
   "outputs": [
    {
     "name": "stdout",
     "output_type": "stream",
     "text": [
      "{'a', 1, 3, 'b', 'c'}\n"
     ]
    }
   ],
   "source": [
    "set1 = {\"a\", \"b\" , \"c\"}\n",
    "set2 = {1, 'b', 3}\n",
    "\n",
    "set1.update(set2)\n",
    "print(set1)"
   ]
  },
  {
   "cell_type": "code",
   "execution_count": 37,
   "id": "c610f238",
   "metadata": {},
   "outputs": [],
   "source": [
    "#functions\n",
    "def name_of_function():\n",
    "    return \"Yashank\""
   ]
  },
  {
   "cell_type": "code",
   "execution_count": 38,
   "id": "327bd62e",
   "metadata": {},
   "outputs": [
    {
     "data": {
      "text/plain": [
       "'Yashank'"
      ]
     },
     "execution_count": 38,
     "metadata": {},
     "output_type": "execute_result"
    }
   ],
   "source": [
    "name_of_function()"
   ]
  },
  {
   "cell_type": "code",
   "execution_count": 39,
   "id": "af9a4289",
   "metadata": {},
   "outputs": [],
   "source": [
    "def check_even(num=None):\n",
    "    print(num)\n",
    "    if (num==None)|(num==\"\"):\n",
    "        return \"No Input\"\n",
    "    if num==0:\n",
    "        return \"Invalid\"\n",
    "    elif num%2==0:\n",
    "        return \"even\"\n",
    "    else:\n",
    "        return \"Odd\""
   ]
  },
  {
   "cell_type": "code",
   "execution_count": 41,
   "id": "a968142d",
   "metadata": {},
   "outputs": [],
   "source": [
    "def fact_num(num=None):\n",
    "    print(num)\n",
    "    "
   ]
  },
  {
   "cell_type": "code",
   "execution_count": 42,
   "id": "2d9e4961",
   "metadata": {},
   "outputs": [
    {
     "name": "stdout",
     "output_type": "stream",
     "text": [
      "[0, 1, 1, 2, 3, 5, 8, 13, 21, 34, 55]\n"
     ]
    }
   ],
   "source": [
    "#write a program to print fibanacci series\n",
    "fibanacci=[0,1]\n",
    "for i in range(2,11):\n",
    "    fibanacci.append(fibanacci[-1]+fibanacci[-2])\n",
    "print(fibanacci)"
   ]
  },
  {
   "cell_type": "code",
   "execution_count": 43,
   "id": "f85dd729",
   "metadata": {},
   "outputs": [
    {
     "name": "stdout",
     "output_type": "stream",
     "text": [
      "45\n"
     ]
    },
    {
     "data": {
      "text/plain": [
       "'Odd'"
      ]
     },
     "execution_count": 43,
     "metadata": {},
     "output_type": "execute_result"
    }
   ],
   "source": [
    "check_even(45)"
   ]
  },
  {
   "cell_type": "code",
   "execution_count": 44,
   "id": "8faee63a",
   "metadata": {},
   "outputs": [
    {
     "name": "stdout",
     "output_type": "stream",
     "text": [
      "9 : 0 PM\n"
     ]
    }
   ],
   "source": [
    "#convert 24 hours into 12 hours\n",
    "time =\"21:00\"\n",
    "first=int(time.split(\":\")[0])\n",
    "second= int(time.split(\":\")[1])\n",
    "\n",
    "if first == 12:\n",
    "    print(str(first),\":\",str(second),\"AM\")\n",
    "elif first > 12:\n",
    "    final=first -12\n",
    "    print(str(final),\":\",str(second),\"PM\")\n",
    "else:\n",
    "    print(str(first),\":\",str(second),\"AM\")"
   ]
  },
  {
   "cell_type": "code",
   "execution_count": 46,
   "id": "b4dfe5c4",
   "metadata": {},
   "outputs": [],
   "source": [
    "sample=[\"my\",\"name\",\"is\",\"Yashank\",\"python\",10,15.8,]\n",
    "type(sample)\n",
    "sample.remove(\"my\")"
   ]
  },
  {
   "cell_type": "code",
   "execution_count": 47,
   "id": "5762b62e",
   "metadata": {},
   "outputs": [
    {
     "data": {
      "text/plain": [
       "list"
      ]
     },
     "execution_count": 47,
     "metadata": {},
     "output_type": "execute_result"
    }
   ],
   "source": [
    "type(sample)"
   ]
  },
  {
   "cell_type": "code",
   "execution_count": 48,
   "id": "1b3ce9f3",
   "metadata": {},
   "outputs": [],
   "source": [
    "thisdict = {\n",
    "  \"brand\": \"Ford\",\n",
    "  \"model\": \"Mustang\",\n",
    "  \"year\": 1964\n",
    "}\n",
    "x = thisdict[\"model\"]\n"
   ]
  },
  {
   "cell_type": "code",
   "execution_count": 49,
   "id": "1373659d",
   "metadata": {},
   "outputs": [
    {
     "name": "stdout",
     "output_type": "stream",
     "text": [
      "Mustang\n"
     ]
    }
   ],
   "source": [
    "print(x)"
   ]
  },
  {
   "cell_type": "code",
   "execution_count": 50,
   "id": "2756ea10",
   "metadata": {},
   "outputs": [
    {
     "name": "stdout",
     "output_type": "stream",
     "text": [
      "0\n",
      "1\n",
      "3\n",
      "4\n"
     ]
    }
   ],
   "source": [
    "for i in range(5):\n",
    "\n",
    "    if i == 2:\n",
    "\n",
    "        pass\n",
    "\n",
    "    else:\n",
    "\n",
    "        print(i)"
   ]
  },
  {
   "cell_type": "code",
   "execution_count": 51,
   "id": "127f4a73",
   "metadata": {},
   "outputs": [
    {
     "name": "stdout",
     "output_type": "stream",
     "text": [
      "0\n",
      "1\n",
      "3\n",
      "4\n"
     ]
    }
   ],
   "source": [
    "for i in range(5):\n",
    "\n",
    "    if i == 2:\n",
    "\n",
    "        continue\n",
    "\n",
    "    print(i)"
   ]
  },
  {
   "cell_type": "code",
   "execution_count": 52,
   "id": "883b1dab",
   "metadata": {},
   "outputs": [
    {
     "name": "stdout",
     "output_type": "stream",
     "text": [
      "10\n"
     ]
    }
   ],
   "source": [
    "def multiply_by_two(x): \n",
    "\n",
    " return x * 2 \n",
    "\n",
    "result = multiply_by_two(5) \n",
    "\n",
    "print(result) "
   ]
  },
  {
   "cell_type": "code",
   "execution_count": 53,
   "id": "4857e195",
   "metadata": {},
   "outputs": [],
   "source": [
    "tuple1 = (1, 2, 3)\n",
    "\n",
    "tuple2 = ('a', 'b')\n",
    "\n",
    "concatenated_tuple = tuple1 + tuple2"
   ]
  },
  {
   "cell_type": "code",
   "execution_count": 55,
   "id": "29e6d132",
   "metadata": {},
   "outputs": [
    {
     "name": "stdout",
     "output_type": "stream",
     "text": [
      "2\n"
     ]
    }
   ],
   "source": [
    "my_dict = {'a': 1, 'b': 2, 'c': 3} \n",
    "\n",
    "result = my_dict.get('b', 0) \n",
    "print(result)"
   ]
  },
  {
   "cell_type": "code",
   "execution_count": 56,
   "id": "d0af0100",
   "metadata": {},
   "outputs": [
    {
     "name": "stdout",
     "output_type": "stream",
     "text": [
      "0    10\n",
      "1    20\n",
      "2    30\n",
      "3    40\n",
      "4    50\n",
      "dtype: int64\n"
     ]
    }
   ],
   "source": [
    "import pandas as pd\n",
    "data = [10, 20, 30, 40, 50]\n",
    "\n",
    "series_from_list = pd.Series(data)\n",
    "print(series_from_list)"
   ]
  },
  {
   "cell_type": "code",
   "execution_count": 58,
   "id": "e9623525",
   "metadata": {},
   "outputs": [
    {
     "name": "stdout",
     "output_type": "stream",
     "text": [
      "9.0\n"
     ]
    }
   ],
   "source": [
    "import numpy as np\n",
    "values = [4,11,7,14]\n",
    "\n",
    "x = np.mean(values)\n",
    "\n",
    "print(x)"
   ]
  }
 ],
 "metadata": {
  "kernelspec": {
   "display_name": "Python 3 (ipykernel)",
   "language": "python",
   "name": "python3"
  },
  "language_info": {
   "codemirror_mode": {
    "name": "ipython",
    "version": 3
   },
   "file_extension": ".py",
   "mimetype": "text/x-python",
   "name": "python",
   "nbconvert_exporter": "python",
   "pygments_lexer": "ipython3",
   "version": "3.11.5"
  }
 },
 "nbformat": 4,
 "nbformat_minor": 5
}
